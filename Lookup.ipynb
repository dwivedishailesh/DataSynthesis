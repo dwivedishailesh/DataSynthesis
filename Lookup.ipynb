{
 "cells": [
  {
   "cell_type": "code",
   "execution_count": null,
   "id": "1d5ed482",
   "metadata": {},
   "outputs": [],
   "source": [
    "import import_ipynb\n",
    "from Utils import Utils\n",
    "import string\n",
    "import numpy as np\n",
    "import random\n",
    "from datetime import date"
   ]
  },
  {
   "cell_type": "code",
   "execution_count": null,
   "id": "62d527e5",
   "metadata": {},
   "outputs": [],
   "source": [
    "class Lookup():\n",
    "    \n",
    "    def __init__(self,lookup='.',matchon='.',filedate=date.today().strftime('%Y%m%d'),extension='.dat',datadir='./data/'):\n",
    "        self.lookup_table = lookup.split('.')[0]\n",
    "        self.lookup_column = lookup.split('.')[1]\n",
    "        self.match_on_table = matchon.split('.')[0]\n",
    "        self.match_on_column = matchon.split('.')[1]\n",
    "        self.filedate = filedate\n",
    "        self.extension = extension\n",
    "        self.datadir = datadir\n",
    "        self.__construct_filename()\n",
    "        self.fhandle = Utils()\n",
    "    \n",
    "    def __construct_filename(self):\n",
    "        self.lookup_filename = self.datadir + self.lookup_table + f\"_{self.filedate}{self.extension}\"\n",
    "        self.match_on_filename = self.datadir + self.match_on_table + f\"_{self.filedate}{self.extension}\"\n",
    "    \n",
    "    def load_series(self):\n",
    "        self.series = self.fhandle.csv_to_df(filename=self.lookup_filename,\n",
    "                                                            usecols=self.lookup_column.split())[self.lookup_column]\n",
    "    def load_dataframe(self):\n",
    "        self.dataframe = self.fhandle.csv_to_df(filename=self.match_on_filename,\n",
    "                                                usecols=[self.match_on_column,self.lookup_column])\n",
    "        \n",
    "    def random_foreign_value(self):\n",
    "        return random.choice(self.series)\n",
    "    \n",
    "    def matched_series(self,match_column):\n",
    "        match_col_header = match_column.columns.values[0]\n",
    "        return match_column.merge(self.dataframe,how='left',left_on=match_col_header,right_on=self.match_on_column)[self.lookup_column]"
   ]
  }
 ],
 "metadata": {
  "kernelspec": {
   "display_name": "Python 3 (ipykernel)",
   "language": "python",
   "name": "python3"
  },
  "language_info": {
   "codemirror_mode": {
    "name": "ipython",
    "version": 3
   },
   "file_extension": ".py",
   "mimetype": "text/x-python",
   "name": "python",
   "nbconvert_exporter": "python",
   "pygments_lexer": "ipython3",
   "version": "3.9.7"
  }
 },
 "nbformat": 4,
 "nbformat_minor": 5
}
