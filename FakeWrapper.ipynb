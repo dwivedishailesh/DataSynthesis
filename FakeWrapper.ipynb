{
 "cells": [
  {
   "cell_type": "code",
   "execution_count": 1,
   "metadata": {},
   "outputs": [
    {
     "name": "stdout",
     "output_type": "stream",
     "text": [
      "importing Jupyter notebook from Utils.ipynb\n"
     ]
    }
   ],
   "source": [
    "import import_ipynb\n",
    "from faker import Faker\n",
    "from faker.providers import DynamicProvider\n",
    "from faker.providers import BaseProvider\n",
    "from Utils import Utils\n",
    "import string\n",
    "import numpy as np\n",
    "import random\n",
    "from datetime import date"
   ]
  },
  {
   "cell_type": "code",
   "execution_count": 2,
   "metadata": {},
   "outputs": [],
   "source": [
    "class _custom_providers(BaseProvider):\n",
    "    \n",
    "    def price_in_range(self,input_price=100,dev=5):\n",
    "        [high,low] = [input_price*(1+dev/100),input_price*(1-dev/100)]\n",
    "        step = 1/pow(10,len(str(input_price).split('.')[1])) if len(str(input_price).split('.')) > 1 else 1\n",
    "        return abs(random.choice(np.arange(low,high,step)))\n",
    "    \n",
    "    def buy_sell(self):\n",
    "        return self.random_element(elements=('B','S'))"
   ]
  },
  {
   "cell_type": "code",
   "execution_count": 3,
   "metadata": {},
   "outputs": [],
   "source": [
    "class FakeWrapper():\n",
    "    \n",
    "    def __init__(self):\n",
    "        self.faker = Faker()\n",
    "        self.fakerunique = Faker().unique\n",
    "        self.__add_custom_providers()\n",
    "    \n",
    "    def getfake(self,fakeprovider,fakerarguments=dict()):\n",
    "        fc = getattr(self.faker,fakeprovider)(**fakerarguments)\n",
    "        return fc\n",
    "    \n",
    "    def getuniquefake(self,fakeprovider,fakerarguments=dict()):\n",
    "        fq = getattr(self.fakerunique,fakeprovider)(**fakerarguments)\n",
    "        return fq\n",
    "    \n",
    "    def __add_custom_providers(self):\n",
    "        self.faker.add_provider(_custom_providers)\n",
    "        self.fakerunique.add_provider(_custom_providers)\n",
    "        pass\n",
    "        "
   ]
  }
 ],
 "metadata": {
  "kernelspec": {
   "display_name": "Python 3 (ipykernel)",
   "language": "python",
   "name": "python3"
  },
  "language_info": {
   "codemirror_mode": {
    "name": "ipython",
    "version": 3
   },
   "file_extension": ".py",
   "mimetype": "text/x-python",
   "name": "python",
   "nbconvert_exporter": "python",
   "pygments_lexer": "ipython3",
   "version": "3.9.7"
  }
 },
 "nbformat": 4,
 "nbformat_minor": 4
}
