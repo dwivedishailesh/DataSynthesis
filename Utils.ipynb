{
 "cells": [
  {
   "cell_type": "code",
   "execution_count": null,
   "metadata": {},
   "outputs": [],
   "source": [
    "import pandas as pd\n",
    "import seaborn as sns\n",
    "import yaml\n",
    "from yaml.loader import SafeLoader\n",
    "import random\n",
    "import import_ipynb\n",
    "import os\n",
    "from datetime import date"
   ]
  },
  {
   "cell_type": "code",
   "execution_count": null,
   "metadata": {},
   "outputs": [],
   "source": [
    "class Utils():\n",
    "        \n",
    "    def openfile(self,filename,permission='r'):\n",
    "        fopen = open(filename,permission)\n",
    "        return fopen\n",
    "    \n",
    "    def load_yaml(self,fopen):\n",
    "        stream = yaml.load(fopen,Loader=SafeLoader)\n",
    "        return stream\n",
    "    \n",
    "    def closefile(self,fopen):\n",
    "        fopen.close()\n",
    "        pass\n",
    "    \n",
    "    def df_to_csv(self,df,filename,colsep=',',header=True,index=False):\n",
    "        df.to_csv(filename,sep=colsep,header=header,index=index, float_format='%11.6f')\n",
    "        return None\n",
    "    \n",
    "    def csv_to_df(self,filename,colsep=',',engine='python',usecols=None):\n",
    "        df = pd.read_csv(filename,sep=colsep,engine=engine,usecols=usecols)\n",
    "        return df\n",
    "    \n",
    "    def rename_with_date(self,filename,extension,filedate):\n",
    "        new_name = filename + '_' + filedate + extension\n",
    "        os.rename(filename,new_name)\n",
    "        pass\n",
    "        "
   ]
  },
  {
   "cell_type": "code",
   "execution_count": null,
   "metadata": {},
   "outputs": [],
   "source": []
  }
 ],
 "metadata": {
  "kernelspec": {
   "display_name": "Python 3 (ipykernel)",
   "language": "python",
   "name": "python3"
  },
  "language_info": {
   "codemirror_mode": {
    "name": "ipython",
    "version": 3
   },
   "file_extension": ".py",
   "mimetype": "text/x-python",
   "name": "python",
   "nbconvert_exporter": "python",
   "pygments_lexer": "ipython3",
   "version": "3.9.7"
  }
 },
 "nbformat": 4,
 "nbformat_minor": 4
}
